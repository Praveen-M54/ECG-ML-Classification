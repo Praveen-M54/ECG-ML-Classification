{
 "cells": [
  {
   "cell_type": "markdown",
   "metadata": {},
   "source": [
    "# Intro\n",
    "This notebook downloads the entire MIT-BIH Arrhythmia Database, which is publicly available here: https://physionet.org/physiobank/database/mitdb/\n",
    "\n",
    "It then plots a small sample for a given file and channel. By changing the variables below, you can change which file, channel, and sample you want to plot.\n",
    "\n",
    "The intend of this notebook is to become familiar with the MIT-BIH data before using it in your machine learning project."
   ]
  },
  {
   "cell_type": "code",
   "execution_count": null,
   "metadata": {},
   "outputs": [],
   "source": [
    "# Change the values below to change your data selection.\n",
    "\n",
    "FILE=1                # There are 48 files.\n",
    "CHANNEL=0             # There are 2 channels\n",
    "SAMPLE_START=114000   # Start of the sample in the file.\n",
    "SAMPLE_SIZE=4000      # Number of readings (360 per second)."
   ]
  },
  {
   "cell_type": "markdown",
   "metadata": {},
   "source": [
    "# Initialize\n",
    "Import dependencies.\n",
    "\n",
    "First, We will need to download and install the [mitdb](https://github.com/Nospoko/qrs-tutorial) library. The project contains convenience functions that make it easier to download and read [WFDB](https://physionet.org/physiotools/wfdb.shtml) compatible files."
   ]
  },
  {
   "cell_type": "code",
   "execution_count": null,
   "metadata": {},
   "outputs": [],
   "source": [
    "!pip install tqdm\n",
    "!pip install wfdb\n",
    "!pip install datasets"
   ]
  },
  {
   "cell_type": "code",
   "execution_count": null,
   "metadata": {},
   "outputs": [],
   "source": [
    "import wfdb as wf\n",
    "import numpy as np\n",
    "from datasets import mitdb as dm\n",
    "from matplotlib import pyplot as plt"
   ]
  },
  {
   "cell_type": "markdown",
   "metadata": {},
   "source": [
    "# Load File\n",
    "Pick one of the MIT-BIH files and load it."
   ]
  },
  {
   "cell_type": "code",
   "execution_count": null,
   "metadata": {},
   "outputs": [],
   "source": [
    "# Get available data files.\n",
    "dbfiles = dm.get_records()\n",
    "print('Total files: ', len(dbfiles))\n",
    "\n",
    "# Pick a file.\n",
    "datfile = dbfiles[FILE]\n",
    "print('Loading file:', datfile)\n",
    "\n",
    "# Read the file.\n",
    "record = wf.rdsamp(datfile)\n",
    "annotation = wf.rdann(datfile, 'atr')\n",
    "\n",
    "# Info about the data.\n",
    "print('Sampling frequency:', record[1].get('fs'))\n",
    "print('Data shape:', record[0].shape)\n",
    "print('Annotations:', len(annotation.num))"
   ]
  },
  {
   "cell_type": "markdown",
   "metadata": {},
   "source": [
    "# Plot\n",
    "Visualize the selected data. Heatbeat data and associated annotations are displayed."
   ]
  },
  {
   "cell_type": "code",
   "execution_count": null,
   "metadata": {},
   "outputs": [],
   "source": [
    "record = wf.rdsamp(datfile)\n",
    "annotation = wf.rdann(datfile, 'atr')\n",
    "\n",
    "# Get data and annotations for the samples selected below.\n",
    "sample_end = SAMPLE_START + SAMPLE_SIZE\n",
    "channel = record[0][SAMPLE_START:sample_end, CHANNEL]\n",
    "\n",
    "# Plot the heart beats. Time scale is number of readings\n",
    "# divided by sampling frequency.\n",
    "times = (np.arange(SAMPLE_SIZE, dtype = 'float') + SAMPLE_START) / record[1].get('fs')\n",
    "plt.figure(figsize=(20,10))\n",
    "plt.plot(times, channel)\n",
    "\n",
    "# Extract annotations.\n",
    "where = np.logical_and(annotation.sample >= SAMPLE_START, annotation.sample < sample_end)\n",
    "annots = annotation.sample[where] - SAMPLE_START\n",
    "annotypes = np.array(annotation.symbol)\n",
    "annotypes = annotypes[where]\n",
    "\n",
    "# Plot the Annotations.\n",
    "annotimes = times[annots]\n",
    "plt.plot(annotimes, np.ones_like(annotimes) * channel.max() * 1.4, 'ro')\n",
    "\n",
    "# Annotation codes.\n",
    "for idx, annot in enumerate(annots):\n",
    "    plt.annotate(annotypes[idx], xy = (times[annot], channel.max() * 1.1))\n",
    "\n",
    "plt.xlim([SAMPLE_START / record[1].get('fs'), (sample_end / record[1].get('fs')) + 1])\n",
    "plt.xlabel('Offset')\n",
    "plt.ylabel(record[1].get('sig_name')[CHANNEL])\n",
    "plt.show()"
   ]
  }
 ],
 "metadata": {
  "kernelspec": {
   "display_name": "Python 3",
   "language": "python",
   "name": "python3"
  },
  "language_info": {
   "codemirror_mode": {
    "name": "ipython",
    "version": 3
   },
   "file_extension": ".py",
   "mimetype": "text/x-python",
   "name": "python",
   "nbconvert_exporter": "python",
   "pygments_lexer": "ipython3",
   "version": "3.11.0"
  }
 },
 "nbformat": 4,
 "nbformat_minor": 2
}
