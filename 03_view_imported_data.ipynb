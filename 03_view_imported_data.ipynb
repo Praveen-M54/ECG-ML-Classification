{
 "cells": [
  {
   "cell_type": "markdown",
   "metadata": {},
   "source": [
    "# Intro\n",
    "This notebook plots some of the individual heartbeat records that were generated from the \"02_import_mitdb_data\" notebook."
   ]
  },
  {
   "cell_type": "markdown",
   "metadata": {},
   "source": [
    "# Initialize\n",
    "Import dependencies."
   ]
  },
  {
   "cell_type": "code",
   "execution_count": null,
   "metadata": {},
   "outputs": [],
   "source": [
    "import numpy as np\n",
    "from matplotlib import pyplot as plt"
   ]
  },
  {
   "cell_type": "markdown",
   "metadata": {},
   "source": [
    "# Load Data\n",
    "Change file name to select different file. The file must be CSV and each row should contain exactly 188 values."
   ]
  },
  {
   "cell_type": "code",
   "execution_count": null,
   "metadata": {},
   "outputs": [],
   "source": [
    "data = np.loadtxt('data_ecg/210_MLII.csv', delimiter=',')\n",
    "print(data.shape)"
   ]
  },
  {
   "cell_type": "markdown",
   "metadata": {},
   "source": [
    "# Visualize\n",
    "Change values to navigate around the data. Different colors are used for Normal vs Abnormal heartbeats."
   ]
  },
  {
   "cell_type": "code",
   "execution_count": null,
   "metadata": {},
   "outputs": [],
   "source": [
    "for beatid in [0,1,2,3,99,200,502,2428,2443]:\n",
    "    times = np.arange(187, dtype = 'float') / 187\n",
    "    beat = data[beatid][:-1]\n",
    "    anno = data[beatid][-1]\n",
    "    plt.figure(figsize=(20,5))\n",
    "    if (anno == 0.0):\n",
    "      plt.plot(times, beat, 'b')\n",
    "    else:\n",
    "      plt.plot(times, beat, 'r')\n",
    "    plt.xlabel('Time [s]')\n",
    "    plt.ylabel('beat ' + str(beatid) + \" type \" + str(anno))\n",
    "    plt.show()"
   ]
  }
 ],
 "metadata": {
  "kernelspec": {
   "display_name": "Python 3",
   "language": "python",
   "name": "python3"
  },
  "language_info": {
   "codemirror_mode": {
    "name": "ipython",
    "version": 3
   },
   "file_extension": ".py",
   "mimetype": "text/x-python",
   "name": "python",
   "nbconvert_exporter": "python",
   "pygments_lexer": "ipython3",
   "version": "3.5.6"
  }
 },
 "nbformat": 4,
 "nbformat_minor": 2
}
